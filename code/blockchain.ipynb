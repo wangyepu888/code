{
 "cells": [
  {
   "cell_type": "markdown",
   "metadata": {},
   "source": [
    "**Exercise 1. Finding the nonce.**"
   ]
  },
  {
   "cell_type": "code",
   "execution_count": 10,
   "metadata": {
    "_cell_guid": "b1076dfc-b9ad-4769-8c92-a6c4dae69d19",
    "_uuid": "8f2839f25d086af736a60e9eeb907d3b93b6e0e5",
    "execution": {
     "iopub.execute_input": "2022-02-25T21:07:23.954397Z",
     "iopub.status.busy": "2022-02-25T21:07:23.954067Z",
     "iopub.status.idle": "2022-02-25T21:07:28.922935Z",
     "shell.execute_reply": "2022-02-25T21:07:28.921497Z",
     "shell.execute_reply.started": "2022-02-25T21:07:23.954320Z"
    }
   },
   "outputs": [
    {
     "name": "stdout",
     "output_type": "stream",
     "text": [
      "0000d5bf6a43a5550905fc48c63357e8b43c018ca1ba710363cf9b5696a644c8\n",
      "The solution is y = TFWUUYZSAENDULPMAOUULOCQPTBXIXDLDGIHDXSSWWXAIBSUJNLJFUFJNERZOTYXKFFCDFXNMZVHHUYLRLKTGAMLQSOIRBDQASZS\n",
      "Working time:1.0042555332183838\n"
     ]
    }
   ],
   "source": [
    "from hashlib import sha256    \n",
    "import time\n",
    "import random\n",
    "import string\n",
    "def generate_random_str(randomlength=16):\n",
    "  str_list = [random.choice(string.ascii_uppercase) for i in range(randomlength)]\n",
    "  random_str = ''.join(str_list)\n",
    "  return random_str\n",
    "\n",
    "\n",
    "def Pow_fun():\n",
    "    y=generate_random_str(100)\n",
    "    x=3\n",
    "    start_time =  time.time()\n",
    "    while sha256('{0}*{1}'.format(x, y).encode('utf-8')).hexdigest()[0:4] != \"0000\":\n",
    "        y=generate_random_str(100)\n",
    "    end_time = time.time()\n",
    "    \n",
    "    during_time =  end_time - start_time\n",
    "    print(sha256('{0}*{1}'.format(x, y).encode()).hexdigest())\n",
    "    print('The solution is y = {}'.format(y)) \n",
    "    print (\"Working time:{}\".format(during_time))\n",
    "Pow_fun()"
   ]
  },
  {
   "cell_type": "markdown",
   "metadata": {},
   "source": [
    "**Exercise 2. Constructing and verifying a blockchain. **"
   ]
  },
  {
   "cell_type": "code",
   "execution_count": 14,
   "metadata": {
    "execution": {
     "iopub.execute_input": "2022-02-25T21:07:28.925392Z",
     "iopub.status.busy": "2022-02-25T21:07:28.925100Z",
     "iopub.status.idle": "2022-02-25T21:08:12.913535Z",
     "shell.execute_reply": "2022-02-25T21:08:12.911716Z",
     "shell.execute_reply.started": "2022-02-25T21:07:28.925366Z"
    }
   },
   "outputs": [
    {
     "name": "stdout",
     "output_type": "stream",
     "text": [
      "0\n",
      "SHA256: 000095c896dbcc0b2443a455d9f4a20308bdaa66ebf66dbb8e960add28deb491\n",
      "nonce:   MCAJXUAKQWVMNQUTXCPGJZBXNYRRHPUEQMPTNGEAAMQDUILKBUULYHCBXXIXKNGTMLHQYIJPZCVKJPJNXXEQKVUNWHILUXBMSVF miner: 0\n",
      "\n",
      "SHA256: 0000b60b2fc03dc618b77a41956f68c502d454bc617354fc5d6a6a95a6341c57\n",
      "nonce:   WTMZDHLSBGKFEHWUZZZDYFEBYCVCQEZESJM miner: 0\n",
      "\n",
      "SHA256: 0000f676bd532e4393b5f3ab11da49b4fd9ba70e7731bffb8223065b937ec187\n",
      "nonce:   NSFMHGTWGHODQHAFRDGWEUAJTIUBWZEWHRH miner: 0\n",
      "\n",
      "SHA256: 000072ee24400cda709b214cd7823385d517b2408f77a79eaba3b66853e0f3f1\n",
      "nonce:   KIMYWOOSWHEKDOJTOLTYRVVSSTIOUSJHPTC miner: 0\n",
      "\n",
      "SHA256: 0000337433da7d65fcc419923fd729542fff4975256e4b0f7b2f146ac9925b28\n",
      "nonce:   LFSJDTYNWXVAREUJIEDJYWYVOIHHZDUGLZC miner: 0\n",
      "\n",
      "SHA256: 00000ed4369e0bf18faa90823214211582b94ffafdd044724bebfea6167ffcac\n",
      "nonce:   SQVHDYZCKRTHJHVJZNXSIMQKZDFJMJKQAZC miner: 0\n",
      "\n",
      "SHA256: 0000e8304e0cb4d2321e7af9f7e9b8564a6195b20257a3a89cfe42893997360b\n",
      "nonce:   PDPHXOAWZRGYOVUGNUDUEEJIRIDETQEMEET miner: 0\n",
      "\n",
      "SHA256: 0000ab410feb7c2393a154231d07fdceb07f691aab53a29809dd522b244c6ccc\n",
      "nonce:   LVPHNCAHZFTWUQETTQIFZMPWXAPSIHVPNGA miner: 0\n",
      "\n",
      "SHA256: 0000a753d1fa0c25305c30444a8c45bc0605c2223d8b09721d4378b2f7665cf4\n",
      "nonce:   PKQUUPQTXGFSMRWVWZRCRVIERUEJZETAOWB miner: 0\n",
      "\n",
      "SHA256: 0000967fba3730a58199d12f00c5af222be3aa1f456ba97e903bcd880e92600e\n",
      "nonce:   ODRLKRAQIYCERSOQKTWBUTYRJSODITNOQXN miner: 0\n",
      "\n"
     ]
    }
   ],
   "source": [
    "from hashlib import sha256    \n",
    "import time\n",
    "import random\n",
    "import string\n",
    "def generate_random_str(randomlength):\n",
    "  str_list = [random.choice(string.ascii_uppercase) for i in range(randomlength)]\n",
    "  random_str = ''.join(str_list)\n",
    "  return random_str\n",
    "def mineTheNextBlock():\n",
    "    global a\n",
    "    y=generate_random_str(100-len(a))\n",
    "    while sha256('{0}*{1}'.format(a, y).encode('utf-8')).hexdigest()[0:4] != \"0000\":\n",
    "        y=generate_random_str(100-len(a))\n",
    "    t=sha256('{0}*{1}'.format(a, y).encode()).hexdigest()\n",
    "    print('SHA256:',t)\n",
    "    print('nonce:  ', y, 'miner:',miner) \n",
    "    print()\n",
    "    a=t+str(miner)\n",
    "\n",
    "miner=0\n",
    "a=str(miner)\n",
    "print(a)\n",
    "for i in range(0,10):\n",
    "    mineTheNextBlock()"
   ]
  },
  {
   "cell_type": "code",
   "execution_count": 15,
   "metadata": {
    "execution": {
     "iopub.execute_input": "2022-02-25T21:08:12.915230Z",
     "iopub.status.busy": "2022-02-25T21:08:12.915001Z",
     "iopub.status.idle": "2022-02-25T21:08:12.926208Z",
     "shell.execute_reply": "2022-02-25T21:08:12.925176Z",
     "shell.execute_reply.started": "2022-02-25T21:08:12.915205Z"
    }
   },
   "outputs": [
    {
     "name": "stdout",
     "output_type": "stream",
     "text": [
      "10\n",
      "verfied\n"
     ]
    }
   ],
   "source": [
    "#!/usr/bin/python\n",
    "# -*- coding: UTF-8 -*-\n",
    "from hashlib import sha256    \n",
    "list=[{'nonce': 'HKDPEAJZJLILXPBEHAJNNQTFAMHHZWLJILHNQHYFQQZOIYQCZUYVKBLNYTEKMVDTDWAAFHMACIEFASYSXUJWLXTGRVBWQYRXTPZ', 'miner': 0}, \n",
    "{'nonce': 'MZPLFFYHZRLYGTUZDRYRRACCGWBUMEERFTR', 'miner': 0}, {'nonce': 'PXOCCFVAYDDEEJPNHLOGCRRQVICCLEQDCJX', 'miner': 0}, \n",
    "{'nonce': 'XOEIMJXOJXQCZXHHBHRDMHZTVHJXKENGLMS', 'miner': 0}, {'nonce': 'UNXWCHEUTPLVWEZWDAHSRMPQJRFUYBCPKAX', 'miner': 0}, \n",
    "{'nonce': 'XJBRWQOUROBXDAHQZTWUEWIROKEXLVMEKMR', 'miner': 0}, {'nonce': 'HHZDLXBMJMGJOFBRAOECCOXAMNBUVHRCDME', 'miner': 0},\n",
    " {'nonce': 'BZCRONSKMWAIOEUTTJUIHSVCNHLXXXCKUTL', 'miner': 0}, {'nonce': 'FOZGXSJCCKHGPJIMYQNBFLCURVWQTFPFZRQ', 'miner': 0},\n",
    " {'nonce': 'YIEWUPHLCCHLWIOEYSFOTUWXSMSCPTVIUNH', 'miner': 0}]\n",
    "\n",
    "p=0\n",
    "def verifyChain(list):\n",
    "    n=len(list)\n",
    "    t=0\n",
    "    global p\n",
    "    for i in range(0,n):\n",
    "        s=str(list[i]['miner'])+list[i]['nonce']\n",
    "        if i==0:\n",
    "            if sha256(s.encode('utf-8')).hexdigest()[0:4] ==\"0000\":\n",
    "                t=t+1\n",
    "                p=sha256(s.encode('utf-8')).hexdigest()\n",
    "        else:\n",
    "            q=p+s\n",
    "            if sha256(q.encode('utf-8')).hexdigest()[0:4] == \"0000\":\n",
    "                t=t+1\n",
    "                p=sha256(q.encode('utf-8')).hexdigest()\n",
    "    print(t)\n",
    "    if t==n: print('verfied')\n",
    "            \n",
    "verifyChain(list)            \n"
   ]
  },
  {
   "cell_type": "markdown",
   "metadata": {},
   "source": [
    "**Exercise 3. Multithreading:**"
   ]
  },
  {
   "cell_type": "code",
   "execution_count": 16,
   "metadata": {
    "execution": {
     "iopub.execute_input": "2022-02-25T21:08:53.251815Z",
     "iopub.status.busy": "2022-02-25T21:08:53.251530Z",
     "iopub.status.idle": "2022-02-25T21:08:53.271865Z",
     "shell.execute_reply": "2022-02-25T21:08:53.271172Z",
     "shell.execute_reply.started": "2022-02-25T21:08:53.251785Z"
    }
   },
   "outputs": [
    {
     "data": {
      "text/plain": [
       "3380"
      ]
     },
     "execution_count": 16,
     "metadata": {},
     "output_type": "execute_result"
    },
    {
     "name": "stdout",
     "output_type": "stream",
     "text": [
      "Thread-0 : [0]  time:  Sat Feb 26 05:38:12 2022\n",
      "Thread-1 : [1]  time:  Sat Feb 26 05:38:13 2022\n",
      "Thread-2 : [2]  time:  Sat Feb 26 05:38:14 2022\n",
      "Thread-3 : [3]  time:  Sat Feb 26 05:38:15 2022\n",
      "Thread-4 : [4]  time:  Sat Feb 26 05:38:16 2022\n",
      "Thread-5 : [5]  time:  Sat Feb 26 05:38:17 2022\n",
      "Thread-6 : [6]  time:  Sat Feb 26 05:38:18 2022\n",
      "Thread-7 : [7]  time:  Sat Feb 26 05:38:19 2022\n",
      "Thread-8 : [8]  time:  Sat Feb 26 05:38:20 2022\n",
      "Thread-9 : [9]  time:  Sat Feb 26 05:38:21 2022\n"
     ]
    }
   ],
   "source": [
    "import _thread\n",
    "import time\n",
    "\n",
    "def print_time( threadName, id, delay):\n",
    "   count = 0\n",
    "   while count < 1:\n",
    "      time.sleep(delay)\n",
    "      count += 1\n",
    "      print (threadName,':' ,id,' time: ', time.ctime(time.time()) )\n",
    "\n",
    "\n",
    "\n",
    "_thread.start_new_thread( print_time, (\"Thread-0\", [0], 0, ) )\n",
    "_thread.start_new_thread( print_time, (\"Thread-1\", [1], 1, ) )\n",
    "_thread.start_new_thread( print_time, (\"Thread-2\", [2], 2, ) )\n",
    "_thread.start_new_thread( print_time, (\"Thread-3\", [3], 3, ) )\n",
    "_thread.start_new_thread( print_time, (\"Thread-4\", [4], 4, ) )\n",
    "_thread.start_new_thread( print_time, (\"Thread-5\", [5], 5, ) )\n",
    "_thread.start_new_thread( print_time, (\"Thread-6\", [6], 6, ) )\n",
    "_thread.start_new_thread( print_time, (\"Thread-7\", [7], 7, ) )\n",
    "_thread.start_new_thread( print_time, (\"Thread-8\", [8], 8, ) )\n",
    "_thread.start_new_thread( print_time, (\"Thread-9\", [9], 9, ) )"
   ]
  },
  {
   "cell_type": "markdown",
   "metadata": {},
   "source": [
    "**Exercise 4. Inter-thread communication.**"
   ]
  },
  {
   "cell_type": "code",
   "execution_count": 17,
   "metadata": {
    "execution": {
     "iopub.execute_input": "2022-02-25T21:09:07.474798Z",
     "iopub.status.busy": "2022-02-25T21:09:07.474548Z",
     "iopub.status.idle": "2022-02-25T21:09:10.491076Z",
     "shell.execute_reply": "2022-02-25T21:09:10.489847Z",
     "shell.execute_reply.started": "2022-02-25T21:09:07.474772Z"
    }
   },
   "outputs": [
    {
     "name": "stdout",
     "output_type": "stream",
     "text": [
      "Thread1 sending message to all other threads: NGBABUSZOC\n",
      "Thread1 received message:  YMGQJLAEFL\n",
      "Thread1 received message:  WSDSFVFQUC\n",
      "Thread1 received message:  1234567\n",
      "Thread2 sending message to all other threads: YMGQJLAEFL\n",
      "Thread2 received message:  NGBABUSZOC\n",
      "Thread2 received message:  WSDSFVFQUC\n",
      "Thread2 received message:  1234567\n",
      "Thread3 sending message to all other threads: WSDSFVFQUC\n",
      "Thread3 received message:  NGBABUSZOC\n",
      "Thread3 received message:  YMGQJLAEFL\n",
      "Thread3 received message:  1234567\n",
      "Thread4 sending message to all other threads: 1234567\n",
      "Thread4 received message:  NGBABUSZOC\n",
      "Thread4 received message:  YMGQJLAEFL\n",
      "Thread4 received message:  WSDSFVFQUC\n"
     ]
    }
   ],
   "source": [
    "\n",
    "from threading import Thread\n",
    "import time  \n",
    "q=[]\n",
    "def function(name,q,data,j):\n",
    "    q.append(data)\n",
    "    time.sleep(j) \n",
    "    print(name,'sending message to all other threads:', data)   \n",
    "    for i in q:\n",
    "        if i!=data:\n",
    "            print(name,'received message: ', i)\n",
    "\n",
    "t1 = Thread(target = function, args =('Thread1',q, 'NGBABUSZOC',1))\n",
    "t2 = Thread(target = function, args =('Thread2',q,'YMGQJLAEFL',2))\n",
    "t3 = Thread(target = function, args =('Thread3', q, 'WSDSFVFQUC',3))\n",
    "t4= Thread(target = function, args =('Thread4', q, '1234567',4))\n",
    "\n",
    "\n",
    "\n",
    "\n",
    "t1.start()\n",
    "t2.start()\n",
    "t3.start()\n",
    "t4.start()\n",
    "threads = []\n",
    "threads.append(t1)\n",
    "threads.append(t2)\n",
    "threads.append(t3)\n",
    "\n",
    "for t in threads:\n",
    "    t.join()\n"
   ]
  },
  {
   "cell_type": "markdown",
   "metadata": {},
   "source": [
    "**Exercise 5. Decentralizing the blockchain. **"
   ]
  },
  {
   "cell_type": "code",
   "execution_count": 19,
   "metadata": {
    "execution": {
     "iopub.execute_input": "2022-02-25T21:10:56.649772Z",
     "iopub.status.busy": "2022-02-25T21:10:56.649504Z",
     "iopub.status.idle": "2022-02-25T21:10:57.376093Z",
     "shell.execute_reply": "2022-02-25T21:10:57.306590Z",
     "shell.execute_reply.started": "2022-02-25T21:10:56.649745Z"
    }
   },
   "outputs": [
    {
     "name": "stdout",
     "output_type": "stream",
     "text": [
      "SHA256: 00004c672cb14349ce7234e812521ce4fbece8f663751ff1fd848c73d8469447\n",
      "nonce:   UNLYYAICEBQTDMDABGDUQWSMBVNXDDXZYGELCNUVPIELFSKCBBYBLOAVRYWJNEMJICTWHGNCHDNXEMUNLJSWARSOEPOQKHXUZEV miner: 1\n",
      "\n",
      "SHA256: 0000d452bf3ae0e4356b4ef209db4e335abcf304ccbbc64fb6b765753517ac07\n",
      "nonce:   ELYEQTLIHKHKZODDYNFIJDDATMCHUPACXEEMKXXTWVNRFWERFAWOOOZOIARUJPKJRZYXRJNQIHIXGIMYCCOIJQDXNFYBYKMLZCZ miner: 1\n",
      "\n",
      "SHA256: 000067834b3daeeabe639e8b895465857921680103122eb77ecdb6bb8c2c6bce\n",
      "nonce:   KDDQLMSRVZHHYICASRUXRWPTLTPDBCLBDKC miner: 2\n",
      "\n",
      "SHA256: 0000e963d90d3e2a9fb1a594844d024271c37bb9e61842c100815266503dc223\n",
      "nonce:   IUAHQGHDNZVKSSLSRGVOBOZAUMWYVEUBQXE miner: 3\n",
      "\n",
      "SHA256: 00005929a86627516b6a7725869add10734208ed841f47c2ef0a7f6f119eb783\n",
      "nonce:   VGIKISGWFLODTZSMEQVUYIQNQAVKHTREEDV miner: 2\n",
      "\n",
      "SHA256: 0000c6947aac665bc81fe41781490449d0dabcbf758bcab6ac073518b67b70cb\n",
      "nonce:   DOSIJPXCMYSEZKLYMADXETVRLPSTIORZYOI miner: 3\n",
      "\n",
      "SHA256: 0000dfd6ed46d23ca4f2f98f622adfc91f10c627c637b4225c0b8cbfd8b68566\n",
      "nonce:   ETAWMYRGFPJDLUQEJBGYOODMVGHEZTGWPVB miner: 3\n",
      "\n",
      "SHA256: 00004f519bbdc9458560c78a0c50aead9714b7d0146bf36d14c5864490ee5499\n",
      "nonce:   VNYCMTQFPFTNMWMVPDGGBSPTZREFAKNVJPH miner: 3\n",
      "\n",
      "SHA256: 00003486bd09cb4d8adc57da9dc7f6fe34d505217f6abf4906033b95dc5ee50a\n",
      "nonce:   KOLRSNCBKBPGRWZDZDTNBHRXCYUDNYZVRZE miner: 2\n",
      "\n",
      "SHA256: 0000b94b6c909fa36a14a94add040487cd37600141f3417266011591e2068720\n",
      "nonce:   LYJSDVMHPIYFRBCTBRLXKUWZFAHRDIFZREO miner: 2\n",
      "\n"
     ]
    }
   ],
   "source": [
    "from hashlib import sha256    \n",
    "import time\n",
    "import random\n",
    "import string\n",
    "import threading\n",
    "def generate_random_str(randomlength):\n",
    "  str_list = [random.choice(string.ascii_uppercase) for i in range(randomlength)]\n",
    "  random_str = ''.join(str_list)\n",
    "  return random_str\n",
    "def mineTheNextBlock(miner):\n",
    "    global a\n",
    "    print(a)\n",
    "    y=generate_random_str(100-len(a))\n",
    "    while sha256('{0}*{1}'.format(a, y).encode('utf-8')).hexdigest()[0:4] != \"0000\":\n",
    "        y=generate_random_str(100-len(a))\n",
    "    t=sha256('{0}*{1}'.format(a, y).encode()).hexdigest()\n",
    "    print('SHA256:',t)\n",
    "    print('nonce:  ', y, 'miner:',miner) \n",
    "    print()\n",
    "    a=t+str(miner)\n",
    "\n",
    "\n",
    "from hashlib import sha256    \n",
    "import time\n",
    "import random\n",
    "import string\n",
    "def generate_random_str(randomlength):\n",
    "  str_list = [random.choice(string.ascii_uppercase) for i in range(randomlength)]\n",
    "  random_str = ''.join(str_list)\n",
    "  return random_str\n",
    "\n",
    "\n",
    "class myThread (threading.Thread):   \n",
    "    def __init__(self, ID,l,n):\n",
    "        threading.Thread.__init__(self)\n",
    "        self.ID = ID\n",
    "    def run(self):\n",
    "        global a\n",
    "        for i in range(0,10):\n",
    "            if i==0:\n",
    "                a=str(self.ID)\n",
    "                y=generate_random_str(100-len(a))\n",
    "                while sha256('{0}*{1}'.format(a, y).encode('utf-8')).hexdigest()[0:4] != \"0000\":\n",
    "                    y=generate_random_str(100-len(a))\n",
    "                    if len(l)!=i: break\n",
    "                if len(l)!=i: continue\n",
    "                l.append(y)\n",
    "                n.append(self.ID)\n",
    "                t=sha256('{0}*{1}'.format(a, y).encode()).hexdigest()\n",
    "                print('SHA256:',t)\n",
    "                print('nonce:  ', y, 'miner:',self.ID) \n",
    "                print()\n",
    "                a=t+str(self.ID)\n",
    "            if i>0:\n",
    "                y=generate_random_str(100-len(a))\n",
    "                while sha256('{0}*{1}'.format(a, y).encode('utf-8')).hexdigest()[0:4] != \"0000\":\n",
    "                    y=generate_random_str(100-len(a))\n",
    "                    if len(l)!=i: break\n",
    "                if len(l)!=i: continue\n",
    "                l.append(y)\n",
    "                n.append(self.ID)\n",
    "                t=sha256('{0}*{1}'.format(a, y).encode()).hexdigest()\n",
    "                print('SHA256:',t)\n",
    "                print('nonce:  ', y, 'miner:',self.ID) \n",
    "                print()\n",
    "                a=t+str(self.ID)\n",
    "\n",
    "l=[]\n",
    "n=[]\n",
    "thread1 = myThread(1,l,n)\n",
    "thread2 = myThread(2,l,n)\n",
    "thread3 = myThread(3,l,n)\n",
    "\n",
    "thread1.start()\n",
    "thread2.start()\n",
    "thread3.start()"
   ]
  },
  {
   "cell_type": "markdown",
   "metadata": {},
   "source": []
  },
  {
   "cell_type": "code",
   "execution_count": null,
   "metadata": {},
   "outputs": [],
   "source": []
  },
  {
   "cell_type": "code",
   "execution_count": null,
   "metadata": {},
   "outputs": [],
   "source": []
  }
 ],
 "metadata": {
  "kernelspec": {
   "display_name": "Python 3",
   "language": "python",
   "name": "python3"
  },
  "language_info": {
   "codemirror_mode": {
    "name": "ipython",
    "version": 3
   },
   "file_extension": ".py",
   "mimetype": "text/x-python",
   "name": "python",
   "nbconvert_exporter": "python",
   "pygments_lexer": "ipython3",
   "version": "3.7.0"
  }
 },
 "nbformat": 4,
 "nbformat_minor": 4
}
