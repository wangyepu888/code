{
 "cells": [
  {
   "cell_type": "code",
   "execution_count": 6,
   "metadata": {
    "execution": {
     "iopub.execute_input": "2021-12-05T03:14:39.156577Z",
     "iopub.status.busy": "2021-12-05T03:14:39.156271Z",
     "iopub.status.idle": "2021-12-05T03:14:47.688401Z",
     "shell.execute_reply": "2021-12-05T03:14:47.687243Z",
     "shell.execute_reply.started": "2021-12-05T03:14:39.156542Z"
    }
   },
   "outputs": [],
   "source": [
    "pip install imutils"
   ]
  },
  {
   "cell_type": "code",
   "execution_count": 7,
   "metadata": {
    "execution": {
     "iopub.execute_input": "2021-12-05T03:14:49.571265Z",
     "iopub.status.busy": "2021-12-05T03:14:49.570279Z",
     "iopub.status.idle": "2021-12-05T03:14:49.577312Z",
     "shell.execute_reply": "2021-12-05T03:14:49.576436Z",
     "shell.execute_reply.started": "2021-12-05T03:14:49.571217Z"
    }
   },
   "outputs": [],
   "source": [
    "# Necessary imports\n",
    "import cv2\n",
    "import dlib\n",
    "import numpy as np\n",
    "import os\n",
    "import matplotlib.pyplot as plt\n",
    "import pandas as pd\n",
    "import imutils"
   ]
  },
  {
   "cell_type": "code",
   "execution_count": 8,
   "metadata": {
    "execution": {
     "iopub.execute_input": "2021-12-05T03:14:51.393166Z",
     "iopub.status.busy": "2021-12-05T03:14:51.392895Z",
     "iopub.status.idle": "2021-12-05T03:14:56.578573Z",
     "shell.execute_reply": "2021-12-05T03:14:56.577650Z",
     "shell.execute_reply.started": "2021-12-05T03:14:51.393138Z"
    }
   },
   "outputs": [],
   "source": [
    "#Initialize color [color_type] = (Blue, Green, Red)\n",
    "color_blue = (254,207,110)\n",
    "color_cyan = (255,200,0)\n",
    "color_black = (0, 0, 0)\n",
    "\n",
    "# Use input () function to capture from user requirements for mask type and mask colour\n",
    "choice1 = input(\"Please select the choice of mask color\\nEnter 1 for blue\\nEnter 2 for black:\\n\")\n",
    "choice1 = int(choice1)\n",
    "\n",
    "if choice1 == 1:\n",
    "    choice1 = color_blue\n",
    "    print('You selected mask color = blue')\n",
    "elif choice1 == 2:\n",
    "    choice1 = color_black\n",
    "    print('You selected mask color = black')\n",
    "else:\n",
    "    print(\"invalid selection, please select again.\")\n",
    "    input(\"Please select the choice of mask color\\nEnter 1 for blue\\nEnter 2 for black :\\n\")\n",
    "\n",
    "\n",
    "choice2 = input(\"Please enter choice of mask type coverage \\nEnter 1 for high \\nEnter 2 for medium \\nEnter 3 for low :\\n\")\n",
    "choice2 = int(choice2)\n",
    "\n",
    "if choice2 == 1:\n",
    "    # choice2 = fmask_a\n",
    "    print(f'You chosen wide, high coverage mask')\n",
    "elif choice2 == 2:\n",
    "    # choice2 = fmask_c\n",
    "    print(f'You chosen wide, medium coverage mask')\n",
    "elif choice2 == 3:\n",
    "    # choice2 = fmask_e\n",
    "    print(f'You chosen wide, low coverage mask')\n",
    "else:\n",
    "    print(\"invalid selection, please select again.\")\n",
    "    input(\"Please enter choice of mask type coverage \\nEnter 1 for high \\nEnter 2 for medium \\nEnter 3 for low :\\n\")\n",
    "\n",
    "# print(choice2)\n",
    "\n"
   ]
  },
  {
   "cell_type": "code",
   "execution_count": 9,
   "metadata": {
    "execution": {
     "iopub.execute_input": "2021-12-05T03:14:59.620020Z",
     "iopub.status.busy": "2021-12-05T03:14:59.619720Z",
     "iopub.status.idle": "2021-12-05T03:14:59.638300Z",
     "shell.execute_reply": "2021-12-05T03:14:59.637503Z",
     "shell.execute_reply.started": "2021-12-05T03:14:59.619983Z"
    }
   },
   "outputs": [],
   "source": [
    "p = \"../input/shape-predictor/shape_predictor_68_face_landmarks.dat\"\n",
    "def function(path):\n",
    "  img= cv2.imread(path)\n",
    "  img2 = imutils.resize(img, width = 500)\n",
    "  gray=cv2.cvtColor(img2, cv2.COLOR_BGR2GRAY)\n",
    "\n",
    "  # Initialize dlib's face detector\n",
    "  detector = dlib.get_frontal_face_detector()\n",
    "\n",
    "\n",
    "\n",
    "  faces = detector(gray, 1)\n",
    "\n",
    "  # printing the coordinates of the bounding rectangles\n",
    "  #print(faces)\n",
    "  #print(\"Number of faces detected: \", len(faces))\n",
    "\n",
    "\n",
    "  # Path of file\n",
    "\n",
    "  # Initialize dlib's shape predictor\n",
    "  predictor = dlib.shape_predictor(p)\n",
    "\n",
    "  # Get the shape using the predictor\n",
    "\n",
    "  for face in faces:\n",
    "      landmarks = predictor(gray, face)\n",
    "\n",
    "      points = []\n",
    "      for i in range(1, 16):\n",
    "          point = [landmarks.part(i).x, landmarks.part(i).y]\n",
    "          points.append(point)\n",
    "      # print(points)\n",
    "\n",
    "      # Coordinates for the additional 3 points for wide, high coverage mask - in sequence\n",
    "      mask_a = [((landmarks.part(42).x), (landmarks.part(15).y)),\n",
    "                ((landmarks.part(27).x), (landmarks.part(27).y)),\n",
    "                ((landmarks.part(39).x), (landmarks.part(1).y))]\n",
    "\n",
    "      # Coordinates for the additional point for wide, medium coverage mask - in sequence\n",
    "      mask_c = [((landmarks.part(29).x), (landmarks.part(29).y))]\n",
    "\n",
    "      # Coordinates for the additional 5 points for wide, low coverage mask (lower nose points) - in sequence\n",
    "      mask_e = [((landmarks.part(35).x), (landmarks.part(35).y)),\n",
    "                ((landmarks.part(34).x), (landmarks.part(34).y)),\n",
    "                ((landmarks.part(33).x), (landmarks.part(33).y)),\n",
    "                ((landmarks.part(32).x), (landmarks.part(32).y)),\n",
    "                ((landmarks.part(31).x), (landmarks.part(31).y))]\n",
    "\n",
    "      fmask_a = points + mask_a\n",
    "      fmask_c = points + mask_c\n",
    "      fmask_e = points + mask_e\n",
    "\n",
    "      # mask_type = {1: fmask_a, 2: fmask_c, 3: fmask_e}\n",
    "      # mask_type[choice2]\n",
    "\n",
    "      # Using Python OpenCV – cv2.polylines() method to draw mask outline for [mask_type]:\n",
    "      # fmask_a = wide, high coverage mask,\n",
    "      # fmask_c = wide, medium coverage mask,\n",
    "      # fmask_e  = wide, low coverage mask\n",
    "\n",
    "      fmask_a = np.array(fmask_a, dtype=np.int32)\n",
    "      fmask_c = np.array(fmask_c, dtype=np.int32)\n",
    "      fmask_e = np.array(fmask_e, dtype=np.int32)\n",
    "\n",
    "      mask_type = {1: fmask_a, 2: fmask_c, 3: fmask_e}\n",
    "      mask_type[choice2]\n",
    "\n",
    "      # change parameter [mask_type] and color_type for various combination\n",
    "      img3 = cv2.polylines(img2, [mask_type[choice2]], True, choice1, thickness=2, lineType=cv2.LINE_8)\n",
    "\n",
    "      # Using Python OpenCV – cv2.fillPoly() method to fill mask\n",
    "      # change parameter [mask_type] and color_type for various combination\n",
    "      img4 = cv2.fillPoly(img3, [mask_type[choice2]], choice1, lineType=cv2.LINE_AA)\n",
    "      img5=cv2.resize(img4, (48, 48))\n",
    "      return img5\n"
   ]
  },
  {
   "cell_type": "code",
   "execution_count": 10,
   "metadata": {
    "execution": {
     "iopub.execute_input": "2021-12-05T03:15:03.389715Z",
     "iopub.status.busy": "2021-12-05T03:15:03.389445Z",
     "iopub.status.idle": "2021-12-05T03:15:05.161080Z",
     "shell.execute_reply": "2021-12-05T03:15:05.159087Z",
     "shell.execute_reply.started": "2021-12-05T03:15:03.389687Z"
    }
   },
   "outputs": [],
   "source": [
    "file_dir='../input/fer2013happy/happy'\n",
    "n=0\n",
    "for root, dirs, files in  os.walk(file_dir):\n",
    "    for i in files:\n",
    "        n=n+1\n",
    "print(n)"
   ]
  },
  {
   "cell_type": "code",
   "execution_count": 11,
   "metadata": {
    "execution": {
     "iopub.execute_input": "2021-12-05T03:15:07.660795Z",
     "iopub.status.busy": "2021-12-05T03:15:07.660527Z",
     "iopub.status.idle": "2021-12-05T03:15:07.666085Z",
     "shell.execute_reply": "2021-12-05T03:15:07.665479Z",
     "shell.execute_reply.started": "2021-12-05T03:15:07.660766Z"
    }
   },
   "outputs": [],
   "source": [
    "label = np.zeros([n], dtype=int)\n",
    "data = np.zeros([n, 48*48*3], dtype=np.uint8)"
   ]
  },
  {
   "cell_type": "code",
   "execution_count": null,
   "metadata": {
    "execution": {
     "iopub.execute_input": "2021-12-05T03:15:09.789385Z",
     "iopub.status.busy": "2021-12-05T03:15:09.789064Z"
    }
   },
   "outputs": [],
   "source": [
    "file_dir='../input/fer2013happy/happy'\n",
    "t=1\n",
    "i=0\n",
    "j=0\n",
    "for root, dirs, files in  os.walk(file_dir):\n",
    "    for i in range(0,n):\n",
    "        t=files[i]\n",
    "        if t.endswith('.jpg'):\n",
    "            tmp_path = os.path.join(file_dir, t)\n",
    "            img6=function(tmp_path)\n",
    "            if img6 is not None:\n",
    "               label[j] = 3\n",
    "               data[j][0:48*48*3] = np.ndarray.flatten(img6)\n",
    "               j=j+1\n",
    "            i = i + 1\n",
    "           \n",
    "           \n"
   ]
  },
  {
   "cell_type": "code",
   "execution_count": null,
   "metadata": {},
   "outputs": [],
   "source": [
    "import csv\n",
    "with open(r\"./face.csv\",\"w\") as csvfile:\n",
    "    writer = csv.writer(csvfile)\n",
    "    writer.writerow(['emotion', 'pixels'])\n",
    "    for i in range(len(label)):\n",
    "        data_list = list(data[i])\n",
    "        b = \" \".join(str(x) for x in data_list)\n",
    "        l = np.hstack([label[i], b])\n",
    "        writer.writerow(l)\n"
   ]
  },
  {
   "cell_type": "code",
   "execution_count": null,
   "metadata": {},
   "outputs": [],
   "source": [
    "\n",
    "import pandas as pd\n",
    "data = pd.read_csv(r'./face.csv', dtype='a')\n",
    "label = np.array(data['emotion'])\n",
    "img_data = np.array(data['pixels'])\n",
    "for i in range(3):\n",
    "    x = img_data[i]\n",
    "    x = np.fromstring(x, dtype=float, sep=' ')\n",
    "    x = x/x.max()\n",
    "    img_x = np.reshape(x, (48, 48,3))\n",
    "    plt.subplot(3,3,i+1)\n",
    "    plt.axis('off')\n",
    "\n",
    "    plt.imshow(img_x, plt.cm.gray)\n",
    "plt.show()\n"
   ]
  },
  {
   "cell_type": "code",
   "execution_count": null,
   "metadata": {
    "execution": {
     "iopub.execute_input": "2021-12-04T14:29:16.080301Z",
     "iopub.status.busy": "2021-12-04T14:29:16.079923Z",
     "iopub.status.idle": "2021-12-04T14:29:16.83798Z",
     "shell.execute_reply": "2021-12-04T14:29:16.836846Z",
     "shell.execute_reply.started": "2021-12-04T14:29:16.080267Z"
    }
   },
   "outputs": [],
   "source": [
    "\n"
   ]
  },
  {
   "cell_type": "code",
   "execution_count": null,
   "metadata": {
    "execution": {
     "iopub.execute_input": "2021-12-04T14:29:20.735753Z",
     "iopub.status.busy": "2021-12-04T14:29:20.735398Z",
     "iopub.status.idle": "2021-12-04T14:29:20.748275Z",
     "shell.execute_reply": "2021-12-04T14:29:20.747423Z",
     "shell.execute_reply.started": "2021-12-04T14:29:20.735717Z"
    }
   },
   "outputs": [],
   "source": [
    "\n"
   ]
  }
 ],
 "metadata": {
  "kernelspec": {
   "display_name": "Python 3",
   "language": "python",
   "name": "python3"
  },
  "language_info": {
   "codemirror_mode": {
    "name": "ipython",
    "version": 3
   },
   "file_extension": ".py",
   "mimetype": "text/x-python",
   "name": "python",
   "nbconvert_exporter": "python",
   "pygments_lexer": "ipython3",
   "version": "3.7.6"
  }
 },
 "nbformat": 4,
 "nbformat_minor": 4
}
